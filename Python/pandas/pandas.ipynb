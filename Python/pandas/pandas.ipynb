{
 "cells": [
  {
   "cell_type": "markdown",
   "metadata": {},
   "source": [
    "# *Pandas Tutorial (day-11)*\n",
    "*This Notebook explains...*"
   ]
  },
  {
   "cell_type": "markdown",
   "metadata": {},
   "source": [
    "# **Install libraries**"
   ]
  },
  {
   "cell_type": "code",
   "execution_count": 76,
   "metadata": {},
   "outputs": [],
   "source": [
    "#pip install pandas\n",
    "#pip install numpy"
   ]
  },
  {
   "cell_type": "markdown",
   "metadata": {},
   "source": [
    "# **Import libraries**"
   ]
  },
  {
   "cell_type": "code",
   "execution_count": 77,
   "metadata": {},
   "outputs": [],
   "source": [
    "import pandas as pd\n",
    "import numpy as np"
   ]
  },
  {
   "cell_type": "markdown",
   "metadata": {},
   "source": [
    "# **Object Creation**"
   ]
  },
  {
   "cell_type": "code",
   "execution_count": 78,
   "metadata": {},
   "outputs": [
    {
     "data": {
      "text/plain": [
       "0    1.0\n",
       "1    3.0\n",
       "2    NaN\n",
       "3    5.0\n",
       "4    7.0\n",
       "5    8.0\n",
       "6    9.0\n",
       "dtype: float64"
      ]
     },
     "execution_count": 78,
     "metadata": {},
     "output_type": "execute_result"
    }
   ],
   "source": [
    "s = pd.Series([1, 3, np.nan, 5, 7, 8, 9])\n",
    "s"
   ]
  },
  {
   "cell_type": "code",
   "execution_count": 79,
   "metadata": {},
   "outputs": [
    {
     "data": {
      "text/plain": [
       "DatetimeIndex(['2022-08-02', '2022-08-03', '2022-08-04', '2022-08-05',\n",
       "               '2022-08-06', '2022-08-07'],\n",
       "              dtype='datetime64[ns]', freq='D')"
      ]
     },
     "execution_count": 79,
     "metadata": {},
     "output_type": "execute_result"
    }
   ],
   "source": [
    "dates = pd.date_range(\"20220802\", periods=6)\n",
    "dates"
   ]
  },
  {
   "cell_type": "code",
   "execution_count": 80,
   "metadata": {},
   "outputs": [
    {
     "data": {
      "text/html": [
       "<div>\n",
       "<style scoped>\n",
       "    .dataframe tbody tr th:only-of-type {\n",
       "        vertical-align: middle;\n",
       "    }\n",
       "\n",
       "    .dataframe tbody tr th {\n",
       "        vertical-align: top;\n",
       "    }\n",
       "\n",
       "    .dataframe thead th {\n",
       "        text-align: right;\n",
       "    }\n",
       "</style>\n",
       "<table border=\"1\" class=\"dataframe\">\n",
       "  <thead>\n",
       "    <tr style=\"text-align: right;\">\n",
       "      <th></th>\n",
       "      <th>A</th>\n",
       "      <th>B</th>\n",
       "      <th>C</th>\n",
       "      <th>D</th>\n",
       "    </tr>\n",
       "  </thead>\n",
       "  <tbody>\n",
       "    <tr>\n",
       "      <th>2022-08-02</th>\n",
       "      <td>-0.673611</td>\n",
       "      <td>-0.108491</td>\n",
       "      <td>-0.054805</td>\n",
       "      <td>-0.986768</td>\n",
       "    </tr>\n",
       "    <tr>\n",
       "      <th>2022-08-03</th>\n",
       "      <td>-0.880931</td>\n",
       "      <td>0.373240</td>\n",
       "      <td>0.882364</td>\n",
       "      <td>0.145002</td>\n",
       "    </tr>\n",
       "    <tr>\n",
       "      <th>2022-08-04</th>\n",
       "      <td>-0.446861</td>\n",
       "      <td>-0.071369</td>\n",
       "      <td>-0.991421</td>\n",
       "      <td>0.944684</td>\n",
       "    </tr>\n",
       "    <tr>\n",
       "      <th>2022-08-05</th>\n",
       "      <td>0.781402</td>\n",
       "      <td>-0.526173</td>\n",
       "      <td>0.744328</td>\n",
       "      <td>0.562576</td>\n",
       "    </tr>\n",
       "    <tr>\n",
       "      <th>2022-08-06</th>\n",
       "      <td>0.304469</td>\n",
       "      <td>0.690623</td>\n",
       "      <td>-0.100175</td>\n",
       "      <td>0.892188</td>\n",
       "    </tr>\n",
       "    <tr>\n",
       "      <th>2022-08-07</th>\n",
       "      <td>-1.258625</td>\n",
       "      <td>0.048012</td>\n",
       "      <td>0.522218</td>\n",
       "      <td>-0.553804</td>\n",
       "    </tr>\n",
       "  </tbody>\n",
       "</table>\n",
       "</div>"
      ],
      "text/plain": [
       "                   A         B         C         D\n",
       "2022-08-02 -0.673611 -0.108491 -0.054805 -0.986768\n",
       "2022-08-03 -0.880931  0.373240  0.882364  0.145002\n",
       "2022-08-04 -0.446861 -0.071369 -0.991421  0.944684\n",
       "2022-08-05  0.781402 -0.526173  0.744328  0.562576\n",
       "2022-08-06  0.304469  0.690623 -0.100175  0.892188\n",
       "2022-08-07 -1.258625  0.048012  0.522218 -0.553804"
      ]
     },
     "execution_count": 80,
     "metadata": {},
     "output_type": "execute_result"
    }
   ],
   "source": [
    "df = pd.DataFrame(np.random.randn(6, 4), index=dates, columns=list(\"ABCD\"))\n",
    "df"
   ]
  },
  {
   "cell_type": "code",
   "execution_count": 81,
   "metadata": {},
   "outputs": [
    {
     "data": {
      "text/html": [
       "<div>\n",
       "<style scoped>\n",
       "    .dataframe tbody tr th:only-of-type {\n",
       "        vertical-align: middle;\n",
       "    }\n",
       "\n",
       "    .dataframe tbody tr th {\n",
       "        vertical-align: top;\n",
       "    }\n",
       "\n",
       "    .dataframe thead th {\n",
       "        text-align: right;\n",
       "    }\n",
       "</style>\n",
       "<table border=\"1\" class=\"dataframe\">\n",
       "  <thead>\n",
       "    <tr style=\"text-align: right;\">\n",
       "      <th></th>\n",
       "      <th>A</th>\n",
       "      <th>B</th>\n",
       "      <th>C</th>\n",
       "      <th>D</th>\n",
       "      <th>E</th>\n",
       "      <th>F</th>\n",
       "    </tr>\n",
       "  </thead>\n",
       "  <tbody>\n",
       "    <tr>\n",
       "      <th>0</th>\n",
       "      <td>1.0</td>\n",
       "      <td>2022-08-02</td>\n",
       "      <td>1.0</td>\n",
       "      <td>3</td>\n",
       "      <td>girl</td>\n",
       "      <td>females</td>\n",
       "    </tr>\n",
       "    <tr>\n",
       "      <th>1</th>\n",
       "      <td>1.0</td>\n",
       "      <td>2022-08-02</td>\n",
       "      <td>1.0</td>\n",
       "      <td>3</td>\n",
       "      <td>woman</td>\n",
       "      <td>females</td>\n",
       "    </tr>\n",
       "    <tr>\n",
       "      <th>2</th>\n",
       "      <td>1.0</td>\n",
       "      <td>2022-08-02</td>\n",
       "      <td>1.0</td>\n",
       "      <td>3</td>\n",
       "      <td>girl</td>\n",
       "      <td>females</td>\n",
       "    </tr>\n",
       "    <tr>\n",
       "      <th>3</th>\n",
       "      <td>1.0</td>\n",
       "      <td>2022-08-02</td>\n",
       "      <td>1.0</td>\n",
       "      <td>3</td>\n",
       "      <td>woman</td>\n",
       "      <td>females</td>\n",
       "    </tr>\n",
       "  </tbody>\n",
       "</table>\n",
       "</div>"
      ],
      "text/plain": [
       "     A          B    C  D      E        F\n",
       "0  1.0 2022-08-02  1.0  3   girl  females\n",
       "1  1.0 2022-08-02  1.0  3  woman  females\n",
       "2  1.0 2022-08-02  1.0  3   girl  females\n",
       "3  1.0 2022-08-02  1.0  3  woman  females"
      ]
     },
     "execution_count": 81,
     "metadata": {},
     "output_type": "execute_result"
    }
   ],
   "source": [
    "from pandas import Categorical, array\n",
    "\n",
    "\n",
    "df2 = pd.DataFrame(\n",
    "  {\n",
    "    \"A\": 1.0,\n",
    "    \"B\": pd.Timestamp(\"20220802\"),\n",
    "    \"C\": pd.Series(1, index=list(range(4)), dtype=\"float32\"),\n",
    "    \"D\": np.array([3] *4, dtype=\"int32\"),\n",
    "    \"E\": pd.Categorical([\"girl\", \"woman\", \"girl\", \"woman\"]),\n",
    "    \"F\": \"females\",\n",
    "    }\n",
    ")    \n",
    "df2"
   ]
  },
  {
   "cell_type": "code",
   "execution_count": 82,
   "metadata": {},
   "outputs": [
    {
     "data": {
      "text/plain": [
       "A           float64\n",
       "B    datetime64[ns]\n",
       "C           float32\n",
       "D             int32\n",
       "E          category\n",
       "F            object\n",
       "dtype: object"
      ]
     },
     "execution_count": 82,
     "metadata": {},
     "output_type": "execute_result"
    }
   ],
   "source": [
    "df2.dtypes"
   ]
  },
  {
   "cell_type": "markdown",
   "metadata": {},
   "source": [
    "# **Data View**"
   ]
  },
  {
   "cell_type": "code",
   "execution_count": 83,
   "metadata": {},
   "outputs": [
    {
     "data": {
      "text/html": [
       "<div>\n",
       "<style scoped>\n",
       "    .dataframe tbody tr th:only-of-type {\n",
       "        vertical-align: middle;\n",
       "    }\n",
       "\n",
       "    .dataframe tbody tr th {\n",
       "        vertical-align: top;\n",
       "    }\n",
       "\n",
       "    .dataframe thead th {\n",
       "        text-align: right;\n",
       "    }\n",
       "</style>\n",
       "<table border=\"1\" class=\"dataframe\">\n",
       "  <thead>\n",
       "    <tr style=\"text-align: right;\">\n",
       "      <th></th>\n",
       "      <th>A</th>\n",
       "      <th>B</th>\n",
       "      <th>C</th>\n",
       "      <th>D</th>\n",
       "    </tr>\n",
       "  </thead>\n",
       "  <tbody>\n",
       "    <tr>\n",
       "      <th>2022-08-02</th>\n",
       "      <td>-0.673611</td>\n",
       "      <td>-0.108491</td>\n",
       "      <td>-0.054805</td>\n",
       "      <td>-0.986768</td>\n",
       "    </tr>\n",
       "    <tr>\n",
       "      <th>2022-08-03</th>\n",
       "      <td>-0.880931</td>\n",
       "      <td>0.373240</td>\n",
       "      <td>0.882364</td>\n",
       "      <td>0.145002</td>\n",
       "    </tr>\n",
       "  </tbody>\n",
       "</table>\n",
       "</div>"
      ],
      "text/plain": [
       "                   A         B         C         D\n",
       "2022-08-02 -0.673611 -0.108491 -0.054805 -0.986768\n",
       "2022-08-03 -0.880931  0.373240  0.882364  0.145002"
      ]
     },
     "execution_count": 83,
     "metadata": {},
     "output_type": "execute_result"
    }
   ],
   "source": [
    "df.head(2)"
   ]
  },
  {
   "cell_type": "code",
   "execution_count": 84,
   "metadata": {},
   "outputs": [
    {
     "data": {
      "text/html": [
       "<div>\n",
       "<style scoped>\n",
       "    .dataframe tbody tr th:only-of-type {\n",
       "        vertical-align: middle;\n",
       "    }\n",
       "\n",
       "    .dataframe tbody tr th {\n",
       "        vertical-align: top;\n",
       "    }\n",
       "\n",
       "    .dataframe thead th {\n",
       "        text-align: right;\n",
       "    }\n",
       "</style>\n",
       "<table border=\"1\" class=\"dataframe\">\n",
       "  <thead>\n",
       "    <tr style=\"text-align: right;\">\n",
       "      <th></th>\n",
       "      <th>A</th>\n",
       "      <th>B</th>\n",
       "      <th>C</th>\n",
       "      <th>D</th>\n",
       "    </tr>\n",
       "  </thead>\n",
       "  <tbody>\n",
       "    <tr>\n",
       "      <th>2022-08-06</th>\n",
       "      <td>0.304469</td>\n",
       "      <td>0.690623</td>\n",
       "      <td>-0.100175</td>\n",
       "      <td>0.892188</td>\n",
       "    </tr>\n",
       "    <tr>\n",
       "      <th>2022-08-07</th>\n",
       "      <td>-1.258625</td>\n",
       "      <td>0.048012</td>\n",
       "      <td>0.522218</td>\n",
       "      <td>-0.553804</td>\n",
       "    </tr>\n",
       "  </tbody>\n",
       "</table>\n",
       "</div>"
      ],
      "text/plain": [
       "                   A         B         C         D\n",
       "2022-08-06  0.304469  0.690623 -0.100175  0.892188\n",
       "2022-08-07 -1.258625  0.048012  0.522218 -0.553804"
      ]
     },
     "execution_count": 84,
     "metadata": {},
     "output_type": "execute_result"
    }
   ],
   "source": [
    "df.tail(2)"
   ]
  },
  {
   "cell_type": "code",
   "execution_count": 85,
   "metadata": {},
   "outputs": [
    {
     "data": {
      "text/plain": [
       "Int64Index([0, 1, 2, 3], dtype='int64')"
      ]
     },
     "execution_count": 85,
     "metadata": {},
     "output_type": "execute_result"
    }
   ],
   "source": [
    "df2.index"
   ]
  },
  {
   "cell_type": "markdown",
   "metadata": {},
   "source": [
    "# **Convert to Numpy**"
   ]
  },
  {
   "cell_type": "code",
   "execution_count": 86,
   "metadata": {},
   "outputs": [
    {
     "data": {
      "text/plain": [
       "array([[-0.67361137, -0.10849114, -0.05480498, -0.9867682 ],\n",
       "       [-0.88093121,  0.37324031,  0.88236356,  0.14500215],\n",
       "       [-0.44686102, -0.0713687 , -0.99142121,  0.94468392],\n",
       "       [ 0.7814025 , -0.52617266,  0.74432759,  0.56257555],\n",
       "       [ 0.30446906,  0.690623  , -0.10017459,  0.89218817],\n",
       "       [-1.25862487,  0.04801167,  0.5222181 , -0.55380428]])"
      ]
     },
     "execution_count": 86,
     "metadata": {},
     "output_type": "execute_result"
    }
   ],
   "source": [
    "df.to_numpy()"
   ]
  },
  {
   "cell_type": "markdown",
   "metadata": {},
   "source": [
    "# **Describe Data**"
   ]
  },
  {
   "cell_type": "code",
   "execution_count": 87,
   "metadata": {},
   "outputs": [
    {
     "data": {
      "text/html": [
       "<div>\n",
       "<style scoped>\n",
       "    .dataframe tbody tr th:only-of-type {\n",
       "        vertical-align: middle;\n",
       "    }\n",
       "\n",
       "    .dataframe tbody tr th {\n",
       "        vertical-align: top;\n",
       "    }\n",
       "\n",
       "    .dataframe thead th {\n",
       "        text-align: right;\n",
       "    }\n",
       "</style>\n",
       "<table border=\"1\" class=\"dataframe\">\n",
       "  <thead>\n",
       "    <tr style=\"text-align: right;\">\n",
       "      <th></th>\n",
       "      <th>A</th>\n",
       "      <th>B</th>\n",
       "      <th>C</th>\n",
       "      <th>D</th>\n",
       "    </tr>\n",
       "  </thead>\n",
       "  <tbody>\n",
       "    <tr>\n",
       "      <th>count</th>\n",
       "      <td>6.000000</td>\n",
       "      <td>6.000000</td>\n",
       "      <td>6.000000</td>\n",
       "      <td>6.000000</td>\n",
       "    </tr>\n",
       "    <tr>\n",
       "      <th>mean</th>\n",
       "      <td>-0.362359</td>\n",
       "      <td>0.067640</td>\n",
       "      <td>0.167085</td>\n",
       "      <td>0.167313</td>\n",
       "    </tr>\n",
       "    <tr>\n",
       "      <th>std</th>\n",
       "      <td>0.765386</td>\n",
       "      <td>0.420677</td>\n",
       "      <td>0.697675</td>\n",
       "      <td>0.792262</td>\n",
       "    </tr>\n",
       "    <tr>\n",
       "      <th>min</th>\n",
       "      <td>-1.258625</td>\n",
       "      <td>-0.526173</td>\n",
       "      <td>-0.991421</td>\n",
       "      <td>-0.986768</td>\n",
       "    </tr>\n",
       "    <tr>\n",
       "      <th>25%</th>\n",
       "      <td>-0.829101</td>\n",
       "      <td>-0.099211</td>\n",
       "      <td>-0.088832</td>\n",
       "      <td>-0.379103</td>\n",
       "    </tr>\n",
       "    <tr>\n",
       "      <th>50%</th>\n",
       "      <td>-0.560236</td>\n",
       "      <td>-0.011679</td>\n",
       "      <td>0.233707</td>\n",
       "      <td>0.353789</td>\n",
       "    </tr>\n",
       "    <tr>\n",
       "      <th>75%</th>\n",
       "      <td>0.116637</td>\n",
       "      <td>0.291933</td>\n",
       "      <td>0.688800</td>\n",
       "      <td>0.809785</td>\n",
       "    </tr>\n",
       "    <tr>\n",
       "      <th>max</th>\n",
       "      <td>0.781402</td>\n",
       "      <td>0.690623</td>\n",
       "      <td>0.882364</td>\n",
       "      <td>0.944684</td>\n",
       "    </tr>\n",
       "  </tbody>\n",
       "</table>\n",
       "</div>"
      ],
      "text/plain": [
       "              A         B         C         D\n",
       "count  6.000000  6.000000  6.000000  6.000000\n",
       "mean  -0.362359  0.067640  0.167085  0.167313\n",
       "std    0.765386  0.420677  0.697675  0.792262\n",
       "min   -1.258625 -0.526173 -0.991421 -0.986768\n",
       "25%   -0.829101 -0.099211 -0.088832 -0.379103\n",
       "50%   -0.560236 -0.011679  0.233707  0.353789\n",
       "75%    0.116637  0.291933  0.688800  0.809785\n",
       "max    0.781402  0.690623  0.882364  0.944684"
      ]
     },
     "execution_count": 87,
     "metadata": {},
     "output_type": "execute_result"
    }
   ],
   "source": [
    "df.describe()"
   ]
  },
  {
   "cell_type": "markdown",
   "metadata": {},
   "source": [
    "# **To Transpose Data**"
   ]
  },
  {
   "cell_type": "code",
   "execution_count": 88,
   "metadata": {},
   "outputs": [
    {
     "data": {
      "text/html": [
       "<div>\n",
       "<style scoped>\n",
       "    .dataframe tbody tr th:only-of-type {\n",
       "        vertical-align: middle;\n",
       "    }\n",
       "\n",
       "    .dataframe tbody tr th {\n",
       "        vertical-align: top;\n",
       "    }\n",
       "\n",
       "    .dataframe thead th {\n",
       "        text-align: right;\n",
       "    }\n",
       "</style>\n",
       "<table border=\"1\" class=\"dataframe\">\n",
       "  <thead>\n",
       "    <tr style=\"text-align: right;\">\n",
       "      <th></th>\n",
       "      <th>2022-08-02</th>\n",
       "      <th>2022-08-03</th>\n",
       "      <th>2022-08-04</th>\n",
       "      <th>2022-08-05</th>\n",
       "      <th>2022-08-06</th>\n",
       "      <th>2022-08-07</th>\n",
       "    </tr>\n",
       "  </thead>\n",
       "  <tbody>\n",
       "    <tr>\n",
       "      <th>A</th>\n",
       "      <td>-0.673611</td>\n",
       "      <td>-0.880931</td>\n",
       "      <td>-0.446861</td>\n",
       "      <td>0.781402</td>\n",
       "      <td>0.304469</td>\n",
       "      <td>-1.258625</td>\n",
       "    </tr>\n",
       "    <tr>\n",
       "      <th>B</th>\n",
       "      <td>-0.108491</td>\n",
       "      <td>0.373240</td>\n",
       "      <td>-0.071369</td>\n",
       "      <td>-0.526173</td>\n",
       "      <td>0.690623</td>\n",
       "      <td>0.048012</td>\n",
       "    </tr>\n",
       "    <tr>\n",
       "      <th>C</th>\n",
       "      <td>-0.054805</td>\n",
       "      <td>0.882364</td>\n",
       "      <td>-0.991421</td>\n",
       "      <td>0.744328</td>\n",
       "      <td>-0.100175</td>\n",
       "      <td>0.522218</td>\n",
       "    </tr>\n",
       "    <tr>\n",
       "      <th>D</th>\n",
       "      <td>-0.986768</td>\n",
       "      <td>0.145002</td>\n",
       "      <td>0.944684</td>\n",
       "      <td>0.562576</td>\n",
       "      <td>0.892188</td>\n",
       "      <td>-0.553804</td>\n",
       "    </tr>\n",
       "  </tbody>\n",
       "</table>\n",
       "</div>"
      ],
      "text/plain": [
       "   2022-08-02  2022-08-03  2022-08-04  2022-08-05  2022-08-06  2022-08-07\n",
       "A   -0.673611   -0.880931   -0.446861    0.781402    0.304469   -1.258625\n",
       "B   -0.108491    0.373240   -0.071369   -0.526173    0.690623    0.048012\n",
       "C   -0.054805    0.882364   -0.991421    0.744328   -0.100175    0.522218\n",
       "D   -0.986768    0.145002    0.944684    0.562576    0.892188   -0.553804"
      ]
     },
     "execution_count": 88,
     "metadata": {},
     "output_type": "execute_result"
    }
   ],
   "source": [
    "df.T"
   ]
  },
  {
   "cell_type": "markdown",
   "metadata": {},
   "source": [
    "# **Data Sorting**"
   ]
  },
  {
   "cell_type": "code",
   "execution_count": 89,
   "metadata": {},
   "outputs": [
    {
     "data": {
      "text/html": [
       "<div>\n",
       "<style scoped>\n",
       "    .dataframe tbody tr th:only-of-type {\n",
       "        vertical-align: middle;\n",
       "    }\n",
       "\n",
       "    .dataframe tbody tr th {\n",
       "        vertical-align: top;\n",
       "    }\n",
       "\n",
       "    .dataframe thead th {\n",
       "        text-align: right;\n",
       "    }\n",
       "</style>\n",
       "<table border=\"1\" class=\"dataframe\">\n",
       "  <thead>\n",
       "    <tr style=\"text-align: right;\">\n",
       "      <th></th>\n",
       "      <th>A</th>\n",
       "      <th>B</th>\n",
       "      <th>C</th>\n",
       "      <th>D</th>\n",
       "    </tr>\n",
       "  </thead>\n",
       "  <tbody>\n",
       "    <tr>\n",
       "      <th>2022-08-02</th>\n",
       "      <td>-0.673611</td>\n",
       "      <td>-0.108491</td>\n",
       "      <td>-0.054805</td>\n",
       "      <td>-0.986768</td>\n",
       "    </tr>\n",
       "    <tr>\n",
       "      <th>2022-08-03</th>\n",
       "      <td>-0.880931</td>\n",
       "      <td>0.373240</td>\n",
       "      <td>0.882364</td>\n",
       "      <td>0.145002</td>\n",
       "    </tr>\n",
       "    <tr>\n",
       "      <th>2022-08-04</th>\n",
       "      <td>-0.446861</td>\n",
       "      <td>-0.071369</td>\n",
       "      <td>-0.991421</td>\n",
       "      <td>0.944684</td>\n",
       "    </tr>\n",
       "    <tr>\n",
       "      <th>2022-08-05</th>\n",
       "      <td>0.781402</td>\n",
       "      <td>-0.526173</td>\n",
       "      <td>0.744328</td>\n",
       "      <td>0.562576</td>\n",
       "    </tr>\n",
       "    <tr>\n",
       "      <th>2022-08-06</th>\n",
       "      <td>0.304469</td>\n",
       "      <td>0.690623</td>\n",
       "      <td>-0.100175</td>\n",
       "      <td>0.892188</td>\n",
       "    </tr>\n",
       "    <tr>\n",
       "      <th>2022-08-07</th>\n",
       "      <td>-1.258625</td>\n",
       "      <td>0.048012</td>\n",
       "      <td>0.522218</td>\n",
       "      <td>-0.553804</td>\n",
       "    </tr>\n",
       "  </tbody>\n",
       "</table>\n",
       "</div>"
      ],
      "text/plain": [
       "                   A         B         C         D\n",
       "2022-08-02 -0.673611 -0.108491 -0.054805 -0.986768\n",
       "2022-08-03 -0.880931  0.373240  0.882364  0.145002\n",
       "2022-08-04 -0.446861 -0.071369 -0.991421  0.944684\n",
       "2022-08-05  0.781402 -0.526173  0.744328  0.562576\n",
       "2022-08-06  0.304469  0.690623 -0.100175  0.892188\n",
       "2022-08-07 -1.258625  0.048012  0.522218 -0.553804"
      ]
     },
     "execution_count": 89,
     "metadata": {},
     "output_type": "execute_result"
    }
   ],
   "source": [
    "df.sort_index(axis=1, ascending=True)"
   ]
  },
  {
   "cell_type": "code",
   "execution_count": 90,
   "metadata": {},
   "outputs": [
    {
     "data": {
      "text/html": [
       "<div>\n",
       "<style scoped>\n",
       "    .dataframe tbody tr th:only-of-type {\n",
       "        vertical-align: middle;\n",
       "    }\n",
       "\n",
       "    .dataframe tbody tr th {\n",
       "        vertical-align: top;\n",
       "    }\n",
       "\n",
       "    .dataframe thead th {\n",
       "        text-align: right;\n",
       "    }\n",
       "</style>\n",
       "<table border=\"1\" class=\"dataframe\">\n",
       "  <thead>\n",
       "    <tr style=\"text-align: right;\">\n",
       "      <th></th>\n",
       "      <th>A</th>\n",
       "      <th>B</th>\n",
       "      <th>C</th>\n",
       "      <th>D</th>\n",
       "    </tr>\n",
       "  </thead>\n",
       "  <tbody>\n",
       "    <tr>\n",
       "      <th>2022-08-05</th>\n",
       "      <td>0.781402</td>\n",
       "      <td>-0.526173</td>\n",
       "      <td>0.744328</td>\n",
       "      <td>0.562576</td>\n",
       "    </tr>\n",
       "    <tr>\n",
       "      <th>2022-08-02</th>\n",
       "      <td>-0.673611</td>\n",
       "      <td>-0.108491</td>\n",
       "      <td>-0.054805</td>\n",
       "      <td>-0.986768</td>\n",
       "    </tr>\n",
       "    <tr>\n",
       "      <th>2022-08-04</th>\n",
       "      <td>-0.446861</td>\n",
       "      <td>-0.071369</td>\n",
       "      <td>-0.991421</td>\n",
       "      <td>0.944684</td>\n",
       "    </tr>\n",
       "    <tr>\n",
       "      <th>2022-08-07</th>\n",
       "      <td>-1.258625</td>\n",
       "      <td>0.048012</td>\n",
       "      <td>0.522218</td>\n",
       "      <td>-0.553804</td>\n",
       "    </tr>\n",
       "    <tr>\n",
       "      <th>2022-08-03</th>\n",
       "      <td>-0.880931</td>\n",
       "      <td>0.373240</td>\n",
       "      <td>0.882364</td>\n",
       "      <td>0.145002</td>\n",
       "    </tr>\n",
       "    <tr>\n",
       "      <th>2022-08-06</th>\n",
       "      <td>0.304469</td>\n",
       "      <td>0.690623</td>\n",
       "      <td>-0.100175</td>\n",
       "      <td>0.892188</td>\n",
       "    </tr>\n",
       "  </tbody>\n",
       "</table>\n",
       "</div>"
      ],
      "text/plain": [
       "                   A         B         C         D\n",
       "2022-08-05  0.781402 -0.526173  0.744328  0.562576\n",
       "2022-08-02 -0.673611 -0.108491 -0.054805 -0.986768\n",
       "2022-08-04 -0.446861 -0.071369 -0.991421  0.944684\n",
       "2022-08-07 -1.258625  0.048012  0.522218 -0.553804\n",
       "2022-08-03 -0.880931  0.373240  0.882364  0.145002\n",
       "2022-08-06  0.304469  0.690623 -0.100175  0.892188"
      ]
     },
     "execution_count": 90,
     "metadata": {},
     "output_type": "execute_result"
    }
   ],
   "source": [
    "df.sort_values(by='B')"
   ]
  },
  {
   "cell_type": "code",
   "execution_count": 91,
   "metadata": {},
   "outputs": [
    {
     "data": {
      "text/plain": [
       "2022-08-02   -0.673611\n",
       "2022-08-03   -0.880931\n",
       "2022-08-04   -0.446861\n",
       "2022-08-05    0.781402\n",
       "2022-08-06    0.304469\n",
       "2022-08-07   -1.258625\n",
       "Freq: D, Name: A, dtype: float64"
      ]
     },
     "execution_count": 91,
     "metadata": {},
     "output_type": "execute_result"
    }
   ],
   "source": [
    "df[\"A\"]"
   ]
  },
  {
   "cell_type": "code",
   "execution_count": 92,
   "metadata": {},
   "outputs": [
    {
     "data": {
      "text/plain": [
       "2022-08-02   -0.108491\n",
       "2022-08-03    0.373240\n",
       "2022-08-04   -0.071369\n",
       "2022-08-05   -0.526173\n",
       "2022-08-06    0.690623\n",
       "2022-08-07    0.048012\n",
       "Freq: D, Name: B, dtype: float64"
      ]
     },
     "execution_count": 92,
     "metadata": {},
     "output_type": "execute_result"
    }
   ],
   "source": [
    "df [\"B\"]"
   ]
  },
  {
   "cell_type": "code",
   "execution_count": 93,
   "metadata": {},
   "outputs": [
    {
     "data": {
      "text/plain": [
       "2022-08-02   -0.054805\n",
       "2022-08-03    0.882364\n",
       "2022-08-04   -0.991421\n",
       "2022-08-05    0.744328\n",
       "2022-08-06   -0.100175\n",
       "2022-08-07    0.522218\n",
       "Freq: D, Name: C, dtype: float64"
      ]
     },
     "execution_count": 93,
     "metadata": {},
     "output_type": "execute_result"
    }
   ],
   "source": [
    "df[\"C\"]"
   ]
  },
  {
   "cell_type": "markdown",
   "metadata": {},
   "source": [
    "# **Row Wise Selection**"
   ]
  },
  {
   "cell_type": "code",
   "execution_count": 94,
   "metadata": {},
   "outputs": [
    {
     "data": {
      "text/html": [
       "<div>\n",
       "<style scoped>\n",
       "    .dataframe tbody tr th:only-of-type {\n",
       "        vertical-align: middle;\n",
       "    }\n",
       "\n",
       "    .dataframe tbody tr th {\n",
       "        vertical-align: top;\n",
       "    }\n",
       "\n",
       "    .dataframe thead th {\n",
       "        text-align: right;\n",
       "    }\n",
       "</style>\n",
       "<table border=\"1\" class=\"dataframe\">\n",
       "  <thead>\n",
       "    <tr style=\"text-align: right;\">\n",
       "      <th></th>\n",
       "      <th>A</th>\n",
       "      <th>B</th>\n",
       "      <th>C</th>\n",
       "      <th>D</th>\n",
       "    </tr>\n",
       "  </thead>\n",
       "  <tbody>\n",
       "    <tr>\n",
       "      <th>2022-08-02</th>\n",
       "      <td>-0.673611</td>\n",
       "      <td>-0.108491</td>\n",
       "      <td>-0.054805</td>\n",
       "      <td>-0.986768</td>\n",
       "    </tr>\n",
       "    <tr>\n",
       "      <th>2022-08-03</th>\n",
       "      <td>-0.880931</td>\n",
       "      <td>0.373240</td>\n",
       "      <td>0.882364</td>\n",
       "      <td>0.145002</td>\n",
       "    </tr>\n",
       "    <tr>\n",
       "      <th>2022-08-04</th>\n",
       "      <td>-0.446861</td>\n",
       "      <td>-0.071369</td>\n",
       "      <td>-0.991421</td>\n",
       "      <td>0.944684</td>\n",
       "    </tr>\n",
       "    <tr>\n",
       "      <th>2022-08-05</th>\n",
       "      <td>0.781402</td>\n",
       "      <td>-0.526173</td>\n",
       "      <td>0.744328</td>\n",
       "      <td>0.562576</td>\n",
       "    </tr>\n",
       "    <tr>\n",
       "      <th>2022-08-06</th>\n",
       "      <td>0.304469</td>\n",
       "      <td>0.690623</td>\n",
       "      <td>-0.100175</td>\n",
       "      <td>0.892188</td>\n",
       "    </tr>\n",
       "    <tr>\n",
       "      <th>2022-08-07</th>\n",
       "      <td>-1.258625</td>\n",
       "      <td>0.048012</td>\n",
       "      <td>0.522218</td>\n",
       "      <td>-0.553804</td>\n",
       "    </tr>\n",
       "  </tbody>\n",
       "</table>\n",
       "</div>"
      ],
      "text/plain": [
       "                   A         B         C         D\n",
       "2022-08-02 -0.673611 -0.108491 -0.054805 -0.986768\n",
       "2022-08-03 -0.880931  0.373240  0.882364  0.145002\n",
       "2022-08-04 -0.446861 -0.071369 -0.991421  0.944684\n",
       "2022-08-05  0.781402 -0.526173  0.744328  0.562576\n",
       "2022-08-06  0.304469  0.690623 -0.100175  0.892188\n",
       "2022-08-07 -1.258625  0.048012  0.522218 -0.553804"
      ]
     },
     "execution_count": 94,
     "metadata": {},
     "output_type": "execute_result"
    }
   ],
   "source": [
    "df[0:]"
   ]
  },
  {
   "cell_type": "markdown",
   "metadata": {},
   "source": [
    "# **To Locate Specific Data**"
   ]
  },
  {
   "cell_type": "code",
   "execution_count": 95,
   "metadata": {},
   "outputs": [
    {
     "data": {
      "text/html": [
       "<div>\n",
       "<style scoped>\n",
       "    .dataframe tbody tr th:only-of-type {\n",
       "        vertical-align: middle;\n",
       "    }\n",
       "\n",
       "    .dataframe tbody tr th {\n",
       "        vertical-align: top;\n",
       "    }\n",
       "\n",
       "    .dataframe thead th {\n",
       "        text-align: right;\n",
       "    }\n",
       "</style>\n",
       "<table border=\"1\" class=\"dataframe\">\n",
       "  <thead>\n",
       "    <tr style=\"text-align: right;\">\n",
       "      <th></th>\n",
       "      <th>A</th>\n",
       "      <th>B</th>\n",
       "    </tr>\n",
       "  </thead>\n",
       "  <tbody>\n",
       "    <tr>\n",
       "      <th>2022-08-02</th>\n",
       "      <td>-0.673611</td>\n",
       "      <td>-0.108491</td>\n",
       "    </tr>\n",
       "    <tr>\n",
       "      <th>2022-08-03</th>\n",
       "      <td>-0.880931</td>\n",
       "      <td>0.373240</td>\n",
       "    </tr>\n",
       "  </tbody>\n",
       "</table>\n",
       "</div>"
      ],
      "text/plain": [
       "                   A         B\n",
       "2022-08-02 -0.673611 -0.108491\n",
       "2022-08-03 -0.880931  0.373240"
      ]
     },
     "execution_count": 95,
     "metadata": {},
     "output_type": "execute_result"
    }
   ],
   "source": [
    "df.loc[\"20220802\": \"20220803\", [\"A\", \"B\"]]"
   ]
  },
  {
   "cell_type": "code",
   "execution_count": 96,
   "metadata": {},
   "outputs": [
    {
     "data": {
      "text/html": [
       "<div>\n",
       "<style scoped>\n",
       "    .dataframe tbody tr th:only-of-type {\n",
       "        vertical-align: middle;\n",
       "    }\n",
       "\n",
       "    .dataframe tbody tr th {\n",
       "        vertical-align: top;\n",
       "    }\n",
       "\n",
       "    .dataframe thead th {\n",
       "        text-align: right;\n",
       "    }\n",
       "</style>\n",
       "<table border=\"1\" class=\"dataframe\">\n",
       "  <thead>\n",
       "    <tr style=\"text-align: right;\">\n",
       "      <th></th>\n",
       "      <th>A</th>\n",
       "      <th>B</th>\n",
       "      <th>C</th>\n",
       "      <th>D</th>\n",
       "    </tr>\n",
       "  </thead>\n",
       "  <tbody>\n",
       "    <tr>\n",
       "      <th>2022-08-02</th>\n",
       "      <td>-0.673611</td>\n",
       "      <td>-0.108491</td>\n",
       "      <td>-0.054805</td>\n",
       "      <td>-0.986768</td>\n",
       "    </tr>\n",
       "    <tr>\n",
       "      <th>2022-08-03</th>\n",
       "      <td>-0.880931</td>\n",
       "      <td>0.373240</td>\n",
       "      <td>0.882364</td>\n",
       "      <td>0.145002</td>\n",
       "    </tr>\n",
       "  </tbody>\n",
       "</table>\n",
       "</div>"
      ],
      "text/plain": [
       "                   A         B         C         D\n",
       "2022-08-02 -0.673611 -0.108491 -0.054805 -0.986768\n",
       "2022-08-03 -0.880931  0.373240  0.882364  0.145002"
      ]
     },
     "execution_count": 96,
     "metadata": {},
     "output_type": "execute_result"
    }
   ],
   "source": [
    "df.iloc[:2]"
   ]
  },
  {
   "cell_type": "markdown",
   "metadata": {},
   "source": [
    "# **Boolean Operators**"
   ]
  },
  {
   "cell_type": "code",
   "execution_count": 97,
   "metadata": {},
   "outputs": [
    {
     "data": {
      "text/html": [
       "<div>\n",
       "<style scoped>\n",
       "    .dataframe tbody tr th:only-of-type {\n",
       "        vertical-align: middle;\n",
       "    }\n",
       "\n",
       "    .dataframe tbody tr th {\n",
       "        vertical-align: top;\n",
       "    }\n",
       "\n",
       "    .dataframe thead th {\n",
       "        text-align: right;\n",
       "    }\n",
       "</style>\n",
       "<table border=\"1\" class=\"dataframe\">\n",
       "  <thead>\n",
       "    <tr style=\"text-align: right;\">\n",
       "      <th></th>\n",
       "      <th>A</th>\n",
       "      <th>B</th>\n",
       "      <th>C</th>\n",
       "      <th>D</th>\n",
       "    </tr>\n",
       "  </thead>\n",
       "  <tbody>\n",
       "    <tr>\n",
       "      <th>2022-08-02</th>\n",
       "      <td>-0.673611</td>\n",
       "      <td>-0.108491</td>\n",
       "      <td>-0.054805</td>\n",
       "      <td>-0.986768</td>\n",
       "    </tr>\n",
       "    <tr>\n",
       "      <th>2022-08-03</th>\n",
       "      <td>-0.880931</td>\n",
       "      <td>0.373240</td>\n",
       "      <td>0.882364</td>\n",
       "      <td>0.145002</td>\n",
       "    </tr>\n",
       "    <tr>\n",
       "      <th>2022-08-04</th>\n",
       "      <td>-0.446861</td>\n",
       "      <td>-0.071369</td>\n",
       "      <td>-0.991421</td>\n",
       "      <td>0.944684</td>\n",
       "    </tr>\n",
       "    <tr>\n",
       "      <th>2022-08-05</th>\n",
       "      <td>0.781402</td>\n",
       "      <td>-0.526173</td>\n",
       "      <td>0.744328</td>\n",
       "      <td>0.562576</td>\n",
       "    </tr>\n",
       "    <tr>\n",
       "      <th>2022-08-06</th>\n",
       "      <td>0.304469</td>\n",
       "      <td>0.690623</td>\n",
       "      <td>-0.100175</td>\n",
       "      <td>0.892188</td>\n",
       "    </tr>\n",
       "    <tr>\n",
       "      <th>2022-08-07</th>\n",
       "      <td>-1.258625</td>\n",
       "      <td>0.048012</td>\n",
       "      <td>0.522218</td>\n",
       "      <td>-0.553804</td>\n",
       "    </tr>\n",
       "  </tbody>\n",
       "</table>\n",
       "</div>"
      ],
      "text/plain": [
       "                   A         B         C         D\n",
       "2022-08-02 -0.673611 -0.108491 -0.054805 -0.986768\n",
       "2022-08-03 -0.880931  0.373240  0.882364  0.145002\n",
       "2022-08-04 -0.446861 -0.071369 -0.991421  0.944684\n",
       "2022-08-05  0.781402 -0.526173  0.744328  0.562576\n",
       "2022-08-06  0.304469  0.690623 -0.100175  0.892188\n",
       "2022-08-07 -1.258625  0.048012  0.522218 -0.553804"
      ]
     },
     "execution_count": 97,
     "metadata": {},
     "output_type": "execute_result"
    }
   ],
   "source": [
    "df"
   ]
  },
  {
   "cell_type": "code",
   "execution_count": 98,
   "metadata": {},
   "outputs": [
    {
     "data": {
      "text/html": [
       "<div>\n",
       "<style scoped>\n",
       "    .dataframe tbody tr th:only-of-type {\n",
       "        vertical-align: middle;\n",
       "    }\n",
       "\n",
       "    .dataframe tbody tr th {\n",
       "        vertical-align: top;\n",
       "    }\n",
       "\n",
       "    .dataframe thead th {\n",
       "        text-align: right;\n",
       "    }\n",
       "</style>\n",
       "<table border=\"1\" class=\"dataframe\">\n",
       "  <thead>\n",
       "    <tr style=\"text-align: right;\">\n",
       "      <th></th>\n",
       "      <th>A</th>\n",
       "      <th>B</th>\n",
       "      <th>C</th>\n",
       "      <th>D</th>\n",
       "    </tr>\n",
       "  </thead>\n",
       "  <tbody>\n",
       "    <tr>\n",
       "      <th>2022-08-02</th>\n",
       "      <td>NaN</td>\n",
       "      <td>NaN</td>\n",
       "      <td>NaN</td>\n",
       "      <td>NaN</td>\n",
       "    </tr>\n",
       "    <tr>\n",
       "      <th>2022-08-03</th>\n",
       "      <td>NaN</td>\n",
       "      <td>0.373240</td>\n",
       "      <td>0.882364</td>\n",
       "      <td>0.145002</td>\n",
       "    </tr>\n",
       "    <tr>\n",
       "      <th>2022-08-04</th>\n",
       "      <td>NaN</td>\n",
       "      <td>NaN</td>\n",
       "      <td>NaN</td>\n",
       "      <td>0.944684</td>\n",
       "    </tr>\n",
       "    <tr>\n",
       "      <th>2022-08-05</th>\n",
       "      <td>0.781402</td>\n",
       "      <td>NaN</td>\n",
       "      <td>0.744328</td>\n",
       "      <td>0.562576</td>\n",
       "    </tr>\n",
       "    <tr>\n",
       "      <th>2022-08-06</th>\n",
       "      <td>0.304469</td>\n",
       "      <td>0.690623</td>\n",
       "      <td>NaN</td>\n",
       "      <td>0.892188</td>\n",
       "    </tr>\n",
       "    <tr>\n",
       "      <th>2022-08-07</th>\n",
       "      <td>NaN</td>\n",
       "      <td>0.048012</td>\n",
       "      <td>0.522218</td>\n",
       "      <td>NaN</td>\n",
       "    </tr>\n",
       "  </tbody>\n",
       "</table>\n",
       "</div>"
      ],
      "text/plain": [
       "                   A         B         C         D\n",
       "2022-08-02       NaN       NaN       NaN       NaN\n",
       "2022-08-03       NaN  0.373240  0.882364  0.145002\n",
       "2022-08-04       NaN       NaN       NaN  0.944684\n",
       "2022-08-05  0.781402       NaN  0.744328  0.562576\n",
       "2022-08-06  0.304469  0.690623       NaN  0.892188\n",
       "2022-08-07       NaN  0.048012  0.522218       NaN"
      ]
     },
     "execution_count": 98,
     "metadata": {},
     "output_type": "execute_result"
    }
   ],
   "source": [
    "df [df > 0]"
   ]
  },
  {
   "cell_type": "code",
   "execution_count": 99,
   "metadata": {},
   "outputs": [
    {
     "data": {
      "text/html": [
       "<div>\n",
       "<style scoped>\n",
       "    .dataframe tbody tr th:only-of-type {\n",
       "        vertical-align: middle;\n",
       "    }\n",
       "\n",
       "    .dataframe tbody tr th {\n",
       "        vertical-align: top;\n",
       "    }\n",
       "\n",
       "    .dataframe thead th {\n",
       "        text-align: right;\n",
       "    }\n",
       "</style>\n",
       "<table border=\"1\" class=\"dataframe\">\n",
       "  <thead>\n",
       "    <tr style=\"text-align: right;\">\n",
       "      <th></th>\n",
       "      <th>A</th>\n",
       "      <th>B</th>\n",
       "      <th>C</th>\n",
       "      <th>D</th>\n",
       "    </tr>\n",
       "  </thead>\n",
       "  <tbody>\n",
       "    <tr>\n",
       "      <th>2022-08-02</th>\n",
       "      <td>-0.673611</td>\n",
       "      <td>-0.108491</td>\n",
       "      <td>-0.054805</td>\n",
       "      <td>-0.986768</td>\n",
       "    </tr>\n",
       "    <tr>\n",
       "      <th>2022-08-03</th>\n",
       "      <td>-0.880931</td>\n",
       "      <td>0.373240</td>\n",
       "      <td>0.882364</td>\n",
       "      <td>0.145002</td>\n",
       "    </tr>\n",
       "    <tr>\n",
       "      <th>2022-08-04</th>\n",
       "      <td>-0.446861</td>\n",
       "      <td>-0.071369</td>\n",
       "      <td>-0.991421</td>\n",
       "      <td>0.944684</td>\n",
       "    </tr>\n",
       "    <tr>\n",
       "      <th>2022-08-07</th>\n",
       "      <td>-1.258625</td>\n",
       "      <td>0.048012</td>\n",
       "      <td>0.522218</td>\n",
       "      <td>-0.553804</td>\n",
       "    </tr>\n",
       "  </tbody>\n",
       "</table>\n",
       "</div>"
      ],
      "text/plain": [
       "                   A         B         C         D\n",
       "2022-08-02 -0.673611 -0.108491 -0.054805 -0.986768\n",
       "2022-08-03 -0.880931  0.373240  0.882364  0.145002\n",
       "2022-08-04 -0.446861 -0.071369 -0.991421  0.944684\n",
       "2022-08-07 -1.258625  0.048012  0.522218 -0.553804"
      ]
     },
     "execution_count": 99,
     "metadata": {},
     "output_type": "execute_result"
    }
   ],
   "source": [
    "df [df [\"A\"] < 0]"
   ]
  },
  {
   "cell_type": "code",
   "execution_count": 100,
   "metadata": {},
   "outputs": [
    {
     "data": {
      "text/html": [
       "<div>\n",
       "<style scoped>\n",
       "    .dataframe tbody tr th:only-of-type {\n",
       "        vertical-align: middle;\n",
       "    }\n",
       "\n",
       "    .dataframe tbody tr th {\n",
       "        vertical-align: top;\n",
       "    }\n",
       "\n",
       "    .dataframe thead th {\n",
       "        text-align: right;\n",
       "    }\n",
       "</style>\n",
       "<table border=\"1\" class=\"dataframe\">\n",
       "  <thead>\n",
       "    <tr style=\"text-align: right;\">\n",
       "      <th></th>\n",
       "      <th>A</th>\n",
       "      <th>B</th>\n",
       "      <th>C</th>\n",
       "      <th>D</th>\n",
       "    </tr>\n",
       "  </thead>\n",
       "  <tbody>\n",
       "    <tr>\n",
       "      <th>2022-08-02</th>\n",
       "      <td>-0.673611</td>\n",
       "      <td>-0.108491</td>\n",
       "      <td>-0.054805</td>\n",
       "      <td>-0.986768</td>\n",
       "    </tr>\n",
       "    <tr>\n",
       "      <th>2022-08-03</th>\n",
       "      <td>-0.880931</td>\n",
       "      <td>0.373240</td>\n",
       "      <td>0.882364</td>\n",
       "      <td>0.145002</td>\n",
       "    </tr>\n",
       "    <tr>\n",
       "      <th>2022-08-04</th>\n",
       "      <td>-0.446861</td>\n",
       "      <td>-0.071369</td>\n",
       "      <td>-0.991421</td>\n",
       "      <td>0.944684</td>\n",
       "    </tr>\n",
       "    <tr>\n",
       "      <th>2022-08-05</th>\n",
       "      <td>0.781402</td>\n",
       "      <td>-0.526173</td>\n",
       "      <td>0.744328</td>\n",
       "      <td>0.562576</td>\n",
       "    </tr>\n",
       "    <tr>\n",
       "      <th>2022-08-06</th>\n",
       "      <td>0.304469</td>\n",
       "      <td>0.690623</td>\n",
       "      <td>-0.100175</td>\n",
       "      <td>0.892188</td>\n",
       "    </tr>\n",
       "    <tr>\n",
       "      <th>2022-08-07</th>\n",
       "      <td>-1.258625</td>\n",
       "      <td>0.048012</td>\n",
       "      <td>0.522218</td>\n",
       "      <td>-0.553804</td>\n",
       "    </tr>\n",
       "  </tbody>\n",
       "</table>\n",
       "</div>"
      ],
      "text/plain": [
       "                   A         B         C         D\n",
       "2022-08-02 -0.673611 -0.108491 -0.054805 -0.986768\n",
       "2022-08-03 -0.880931  0.373240  0.882364  0.145002\n",
       "2022-08-04 -0.446861 -0.071369 -0.991421  0.944684\n",
       "2022-08-05  0.781402 -0.526173  0.744328  0.562576\n",
       "2022-08-06  0.304469  0.690623 -0.100175  0.892188\n",
       "2022-08-07 -1.258625  0.048012  0.522218 -0.553804"
      ]
     },
     "execution_count": 100,
     "metadata": {},
     "output_type": "execute_result"
    }
   ],
   "source": [
    "df2 = df.copy()\n",
    "df2"
   ]
  },
  {
   "cell_type": "code",
   "execution_count": 101,
   "metadata": {},
   "outputs": [
    {
     "data": {
      "text/html": [
       "<div>\n",
       "<style scoped>\n",
       "    .dataframe tbody tr th:only-of-type {\n",
       "        vertical-align: middle;\n",
       "    }\n",
       "\n",
       "    .dataframe tbody tr th {\n",
       "        vertical-align: top;\n",
       "    }\n",
       "\n",
       "    .dataframe thead th {\n",
       "        text-align: right;\n",
       "    }\n",
       "</style>\n",
       "<table border=\"1\" class=\"dataframe\">\n",
       "  <thead>\n",
       "    <tr style=\"text-align: right;\">\n",
       "      <th></th>\n",
       "      <th>A</th>\n",
       "      <th>B</th>\n",
       "      <th>C</th>\n",
       "      <th>D</th>\n",
       "      <th>E</th>\n",
       "    </tr>\n",
       "  </thead>\n",
       "  <tbody>\n",
       "    <tr>\n",
       "      <th>2022-08-02</th>\n",
       "      <td>-0.673611</td>\n",
       "      <td>-0.108491</td>\n",
       "      <td>-0.054805</td>\n",
       "      <td>-0.986768</td>\n",
       "      <td>one</td>\n",
       "    </tr>\n",
       "    <tr>\n",
       "      <th>2022-08-03</th>\n",
       "      <td>-0.880931</td>\n",
       "      <td>0.373240</td>\n",
       "      <td>0.882364</td>\n",
       "      <td>0.145002</td>\n",
       "      <td>one</td>\n",
       "    </tr>\n",
       "    <tr>\n",
       "      <th>2022-08-04</th>\n",
       "      <td>-0.446861</td>\n",
       "      <td>-0.071369</td>\n",
       "      <td>-0.991421</td>\n",
       "      <td>0.944684</td>\n",
       "      <td>two</td>\n",
       "    </tr>\n",
       "    <tr>\n",
       "      <th>2022-08-05</th>\n",
       "      <td>0.781402</td>\n",
       "      <td>-0.526173</td>\n",
       "      <td>0.744328</td>\n",
       "      <td>0.562576</td>\n",
       "      <td>three</td>\n",
       "    </tr>\n",
       "    <tr>\n",
       "      <th>2022-08-06</th>\n",
       "      <td>0.304469</td>\n",
       "      <td>0.690623</td>\n",
       "      <td>-0.100175</td>\n",
       "      <td>0.892188</td>\n",
       "      <td>one</td>\n",
       "    </tr>\n",
       "    <tr>\n",
       "      <th>2022-08-07</th>\n",
       "      <td>-1.258625</td>\n",
       "      <td>0.048012</td>\n",
       "      <td>0.522218</td>\n",
       "      <td>-0.553804</td>\n",
       "      <td>three</td>\n",
       "    </tr>\n",
       "  </tbody>\n",
       "</table>\n",
       "</div>"
      ],
      "text/plain": [
       "                   A         B         C         D      E\n",
       "2022-08-02 -0.673611 -0.108491 -0.054805 -0.986768    one\n",
       "2022-08-03 -0.880931  0.373240  0.882364  0.145002    one\n",
       "2022-08-04 -0.446861 -0.071369 -0.991421  0.944684    two\n",
       "2022-08-05  0.781402 -0.526173  0.744328  0.562576  three\n",
       "2022-08-06  0.304469  0.690623 -0.100175  0.892188    one\n",
       "2022-08-07 -1.258625  0.048012  0.522218 -0.553804  three"
      ]
     },
     "execution_count": 101,
     "metadata": {},
     "output_type": "execute_result"
    }
   ],
   "source": [
    "df2[\"E\"] = [\"one\", \"one\", \"two\", \"three\", \"one\", \"three\"]\n",
    "df2"
   ]
  },
  {
   "cell_type": "code",
   "execution_count": 107,
   "metadata": {},
   "outputs": [
    {
     "data": {
      "text/plain": [
       "('df2', 'pd.concat([A, B, C, D])')"
      ]
     },
     "execution_count": 107,
     "metadata": {},
     "output_type": "execute_result"
    }
   ],
   "source": [
    "from statistics import mean\n",
    "\n",
    "\n",
    "('df2', 'pd.concat([A, B, C, D])')"
   ]
  },
  {
   "cell_type": "code",
   "execution_count": 109,
   "metadata": {},
   "outputs": [
    {
     "data": {
      "text/html": [
       "<div>\n",
       "<style scoped>\n",
       "    .dataframe tbody tr th:only-of-type {\n",
       "        vertical-align: middle;\n",
       "    }\n",
       "\n",
       "    .dataframe tbody tr th {\n",
       "        vertical-align: top;\n",
       "    }\n",
       "\n",
       "    .dataframe thead th {\n",
       "        text-align: right;\n",
       "    }\n",
       "</style>\n",
       "<table border=\"1\" class=\"dataframe\">\n",
       "  <thead>\n",
       "    <tr style=\"text-align: right;\">\n",
       "      <th></th>\n",
       "      <th>A</th>\n",
       "      <th>B</th>\n",
       "    </tr>\n",
       "  </thead>\n",
       "  <tbody>\n",
       "    <tr>\n",
       "      <th>2022-08-02</th>\n",
       "      <td>-0.673611</td>\n",
       "      <td>-0.108491</td>\n",
       "    </tr>\n",
       "    <tr>\n",
       "      <th>2022-08-03</th>\n",
       "      <td>-0.880931</td>\n",
       "      <td>0.373240</td>\n",
       "    </tr>\n",
       "    <tr>\n",
       "      <th>2022-08-04</th>\n",
       "      <td>-0.446861</td>\n",
       "      <td>-0.071369</td>\n",
       "    </tr>\n",
       "    <tr>\n",
       "      <th>2022-08-05</th>\n",
       "      <td>0.781402</td>\n",
       "      <td>-0.526173</td>\n",
       "    </tr>\n",
       "    <tr>\n",
       "      <th>2022-08-06</th>\n",
       "      <td>0.304469</td>\n",
       "      <td>0.690623</td>\n",
       "    </tr>\n",
       "    <tr>\n",
       "      <th>2022-08-07</th>\n",
       "      <td>-1.258625</td>\n",
       "      <td>0.048012</td>\n",
       "    </tr>\n",
       "  </tbody>\n",
       "</table>\n",
       "</div>"
      ],
      "text/plain": [
       "                   A         B\n",
       "2022-08-02 -0.673611 -0.108491\n",
       "2022-08-03 -0.880931  0.373240\n",
       "2022-08-04 -0.446861 -0.071369\n",
       "2022-08-05  0.781402 -0.526173\n",
       "2022-08-06  0.304469  0.690623\n",
       "2022-08-07 -1.258625  0.048012"
      ]
     },
     "execution_count": 109,
     "metadata": {},
     "output_type": "execute_result"
    }
   ],
   "source": [
    "df2 = df2.iloc[ : ,0:2]\n",
    "df2"
   ]
  },
  {
   "cell_type": "code",
   "execution_count": null,
   "metadata": {},
   "outputs": [],
   "source": []
  }
 ],
 "metadata": {
  "kernelspec": {
   "display_name": "Python 3.10.5 64-bit",
   "language": "python",
   "name": "python3"
  },
  "language_info": {
   "codemirror_mode": {
    "name": "ipython",
    "version": 3
   },
   "file_extension": ".py",
   "mimetype": "text/x-python",
   "name": "python",
   "nbconvert_exporter": "python",
   "pygments_lexer": "ipython3",
   "version": "3.10.5"
  },
  "orig_nbformat": 4,
  "vscode": {
   "interpreter": {
    "hash": "a9cff5a362bc38ef45d817ae74b1af54d6a076e3d773891282bce078b815ba34"
   }
  }
 },
 "nbformat": 4,
 "nbformat_minor": 2
}
